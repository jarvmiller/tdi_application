{
 "cells": [
  {
   "cell_type": "code",
   "execution_count": 12,
   "metadata": {},
   "outputs": [],
   "source": [
    "import pandas as pd\n",
    "import json\n",
    "import numpy as np\n",
    "import seaborn as sns; sns.set(style=\"ticks\", color_codes=True)\n",
    "import matplotlib.pyplot as plt\n",
    "from gensim.models.doc2vec import Doc2Vec, TaggedDocument\n",
    "from nltk.tokenize import word_tokenize\n",
    "from sklearn.manifold import TSNE\n",
    "%matplotlib inline\n",
    "\n",
    "import psycopg2\n",
    "import sys\n",
    "import psycopg2.extras\n",
    "from config import *\n",
    "from textblob import TextBlob\n",
    "import re"
   ]
  },
  {
   "cell_type": "code",
   "execution_count": 2,
   "metadata": {},
   "outputs": [],
   "source": [
    "with open('artists.json', 'r') as f:\n",
    "    artists = json.loads(f.read())"
   ]
  },
  {
   "cell_type": "code",
   "execution_count": null,
   "metadata": {},
   "outputs": [],
   "source": [
    "# read data into a list of dataframes then combine\n",
    "dfs = []\n",
    "for artist_name in artists.keys(): \n",
    "    genre = artists[artist_name]['info'][1]\n",
    "    for album in artists[artist_name]['albums']: # a list of dictionaries\n",
    "        album_name = list(album.keys())[0]\n",
    "        df = pd.DataFrame.from_dict(album[album_name]).T\n",
    "        df.columns = ['track_num', 'track_title', 'track_length', 'danceability', 'energy',\n",
    "                      'tempo', 'speechiness', 'valence']\n",
    "        df['artist'] = artist_name\n",
    "        df['genre'] = genre\n",
    "        dfs.append(df)"
   ]
  },
  {
   "cell_type": "code",
   "execution_count": null,
   "metadata": {},
   "outputs": [],
   "source": [
    "artist_df = pd.concat(dfs)\n",
    "artist_df = artist_df.reset_index()"
   ]
  },
  {
   "cell_type": "code",
   "execution_count": null,
   "metadata": {},
   "outputs": [],
   "source": [
    "artist_df.head()"
   ]
  },
  {
   "cell_type": "code",
   "execution_count": null,
   "metadata": {},
   "outputs": [],
   "source": [
    "### Plot 1\n",
    "plt_1 = sns.lmplot(x=\"valence\", y=\"danceability\", fit_reg=False, col='genre', col_wrap=4, hue='genre', data=artist_df);\n",
    "plt.subplots_adjust(top=0.9)\n",
    "plt_1.fig.suptitle(\"Relationship between Valence and Danceability subset by genre\")\n",
    "plt_1.savefig(\"plot_1.png\")\n"
   ]
  },
  {
   "cell_type": "markdown",
   "metadata": {},
   "source": [
    "# looking at lyrics"
   ]
  },
  {
   "cell_type": "code",
   "execution_count": 3,
   "metadata": {},
   "outputs": [],
   "source": [
    "with open('songs.json', 'r') as f:\n",
    "    songs = json.loads(f.read())"
   ]
  },
  {
   "cell_type": "code",
   "execution_count": null,
   "metadata": {},
   "outputs": [],
   "source": [
    "tagged_data = []\n",
    "song_li = []\n",
    "for artist in songs.keys():\n",
    "    for song_id in songs[artist]:\n",
    "        lyrics = songs[artist][song_id][0]\n",
    "        tagged_data.append(TaggedDocument(words=word_tokenize(lyrics.lower()), tags=[song_id]))\n",
    "        df = pd.DataFrame([artist, song_id, lyrics]).T\n",
    "        df.columns = ['artist', 'song_id', 'lyrics']\n",
    "        song_li.append(df)\n"
   ]
  },
  {
   "cell_type": "code",
   "execution_count": null,
   "metadata": {},
   "outputs": [],
   "source": [
    "song_df = pd.concat(song_li)"
   ]
  },
  {
   "cell_type": "code",
   "execution_count": null,
   "metadata": {},
   "outputs": [],
   "source": [
    "max_epochs = 50\n",
    "vec_size = 20\n",
    "alpha = 0.025\n",
    "\n",
    "model = Doc2Vec(vector_size=vec_size,\n",
    "                alpha=alpha, \n",
    "                min_alpha=0.00025,\n",
    "                min_count=1,\n",
    "                dm =1,\n",
    "                epochs=max_epochs)\n",
    "  \n",
    "model.build_vocab(tagged_data)\n",
    "\n",
    "for epoch in range(max_epochs):\n",
    "    print('iteration {0}'.format(epoch))\n",
    "    model.train(tagged_data,\n",
    "                total_examples=model.corpus_count,\n",
    "                epochs=model.epochs)\n",
    "    # decrease the learning rate\n",
    "    model.alpha -= 0.0002\n",
    "    # fix the learning rate, no decay\n",
    "    model.min_alpha = model.alpha"
   ]
  },
  {
   "cell_type": "code",
   "execution_count": null,
   "metadata": {},
   "outputs": [],
   "source": [
    "doc_mat = []\n",
    "for i in range(len(model.docvecs)):\n",
    "    doc_mat.append(model.docvecs[i])\n",
    "doc_mat = np.array(doc_mat)"
   ]
  },
  {
   "cell_type": "code",
   "execution_count": null,
   "metadata": {},
   "outputs": [],
   "source": [
    "tsne_model = TSNE(n_components=2, verbose=1, perplexity=40, n_iter=300)\n",
    "tsne_rslt = tsne_model.fit_transform(doc_mat)"
   ]
  },
  {
   "cell_type": "code",
   "execution_count": null,
   "metadata": {},
   "outputs": [],
   "source": [
    "song_df.head() # in same order as tagged data aka in same order as TSNE"
   ]
  },
  {
   "cell_type": "code",
   "execution_count": null,
   "metadata": {},
   "outputs": [],
   "source": [
    "song_df['tsne_x'] = tsne_rslt[:, 0]\n",
    "song_df['tsne_y'] = tsne_rslt[:, 1]"
   ]
  },
  {
   "cell_type": "code",
   "execution_count": null,
   "metadata": {},
   "outputs": [],
   "source": [
    "tsne_df = song_df.merge(artist_df, left_on='song_id', right_on='index')"
   ]
  },
  {
   "cell_type": "code",
   "execution_count": null,
   "metadata": {},
   "outputs": [],
   "source": [
    "col_map = {\"deep indie r&b\": 'r&b', 'indie r&b': 'r&b',\n",
    "           'dirty south rap': 'rap', 'deep underground hip hop': 'rap', 'gangster rap': 'rap', 'hip hop': 'rap',\n",
    "           'dance pop': 'hip hop pop', 'pop rap': 'hip hop pop'}"
   ]
  },
  {
   "cell_type": "code",
   "execution_count": null,
   "metadata": {},
   "outputs": [],
   "source": [
    "tsne_df['broad_genre'] = tsne_df.genre.map(col_map)"
   ]
  },
  {
   "cell_type": "code",
   "execution_count": null,
   "metadata": {},
   "outputs": [],
   "source": [
    "plt_2 = sns.lmplot(x=\"tsne_x\", y=\"tsne_y\", fit_reg=False, hue='broad_genre', data=tsne_df);\n",
    "plt_2.fig.suptitle(\"TSNE plot showing lyrics similarity between genres\");\n",
    "plt_2.savefig('plot_2.png')"
   ]
  },
  {
   "cell_type": "code",
   "execution_count": 4,
   "metadata": {},
   "outputs": [
    {
     "name": "stdout",
     "output_type": "stream",
     "text": [
      "Success connecting to database\n"
     ]
    }
   ],
   "source": [
    "try:\n",
    "    conn = psycopg2.connect(\"dbname='{0}' user='{1}' password='{2}'\".format(db_name, db_user, db_password))\n",
    "    print(\"Success connecting to database\")\n",
    "except:\n",
    "    print(\"Unable to connect to the database. Check server and credentials.\")\n",
    "    sys.exit(1) # Stop running program if there's no db connection.\n",
    "\n",
    "# So you can insert by column name\n",
    "cur = conn.cursor(cursor_factory=psycopg2.extras.RealDictCursor)\n",
    "\n",
    "## Code to DROP TABLES IF EXIST IN DATABASE (so no repeats).. This will change once the app us up and ready\n",
    "## as I can use __contains__ to see if the entries already exist or not\n",
    "cur.execute(\"DROP TABLE IF EXISTS Songs\")\n",
    "cur.execute(\"DROP TABLE IF EXISTS Artists\")\n",
    "\n",
    "\n",
    "cur.execute(\"\"\"CREATE TABLE IF NOT EXISTS Artists(ID SERIAL PRIMARY KEY,\n",
    "                                                  Name VARCHAR(128),\n",
    "                                                  Genre VARCHAR(40),\n",
    "                                                  Popularity INTEGER)\"\"\")\n",
    "cur.execute(\"\"\"CREATE TABLE IF NOT EXISTS Songs(ID SERIAL PRIMARY KEY,\n",
    "                                                Name VARCHAR(128),\n",
    "                                                Track_Number INTEGER,\n",
    "                                                Artist_Name VARCHAR(128),\n",
    "                                                Album_Name VARCHAR (128),\n",
    "                                                Duration_MS FLOAT,\n",
    "                                                Valence FLOAT,\n",
    "                                                Energy FLOAT,\n",
    "                                                Tempo FLOAT,\n",
    "                                                Speechiness FLOAT,\n",
    "                                                Danceability FLOAT,\n",
    "                                                Lyrics TEXT,\n",
    "                                                Length_Lyrics INTEGER,\n",
    "                                                Weighted_Sum FLOAT)\"\"\")"
   ]
  },
  {
   "cell_type": "code",
   "execution_count": 15,
   "metadata": {},
   "outputs": [],
   "source": [
    "class Table():\n",
    "    # Class that allows insertion with the database tables\n",
    "\n",
    "    def __init__(self):\n",
    "        pass\n",
    "\n",
    "    def insert_into_artists(self, artist_name, genre, popularity, cur=cur, conn=conn):\n",
    "            sql = \"\"\"INSERT INTO Artists(Name, Genre, Popularity) VALUES(%s, %s, %s)\"\"\"\n",
    "            cur.execute(sql, (artist_name, genre, popularity,)) \n",
    "        \n",
    "    def insert_into_songs(self, song_dict, artist_dict, cur=cur, conn=conn):\n",
    "        \"\"\"\n",
    "        Uses the dictionaries containing artist and song info to fill both tables\n",
    "\n",
    "        Parameters\n",
    "        -------\n",
    "        song_dict : dictionary\n",
    "            Contains song lyrics and length of lyrics for each track\n",
    "            for each artist\n",
    "        artist_dict : dictionary\n",
    "            Contains artist data, and their corresponding albums (and tracks)\n",
    "        \"\"\"\n",
    "\n",
    "        # If either dictionary is empty, raise ValueError\n",
    "        # so we can scrape artist and song data instead\n",
    "        if song_dict == {} or artist_dict == {}:\n",
    "            return ValueError\n",
    "\n",
    "\n",
    "        sql = \"\"\"INSERT INTO Songs(Name,\n",
    "                                   Track_Number,\n",
    "                                   Artist_Name,\n",
    "                                   Album_Name,\n",
    "                                   Duration_MS,\n",
    "                                   Valence,\n",
    "                                   Energy,\n",
    "                                   Tempo,\n",
    "                                   Speechiness,\n",
    "                                   Danceability,\n",
    "                                   Lyrics,\n",
    "                                   Length_Lyrics)\n",
    "                                   VALUES(%s, %s, %s, %s, %s, %s, %s, %s, %s, %s, %s, %s)\"\"\"\n",
    "        # For each key\n",
    "        for artist in artist_dict:\n",
    "            if self.__contains__(artist): # if the artist already exists, move on\n",
    "                # need to find a way to override this in case an artist releases a new album\n",
    "                # maybe do this for each album instead of each artist?\n",
    "                # or add an 'override' parameter?\n",
    "                continue\n",
    "            # get the artist info and insert into the artist table\n",
    "            artist_id, genre, artist_popularity, related_artists = artist_dict[artist]['info']\n",
    "            self.insert_into_artists(artist, genre, artist_popularity)\n",
    "\n",
    "            for album in artist_dict[artist]['albums']:\n",
    "                album_title = list(album.keys())[0]\n",
    "                # loop through this to index in the song dictionary\n",
    "                for song_id, song_features in album[album_title].items():\n",
    "                    # This should never cause an exception.. \n",
    "                    # TODO: see if I can take this out\n",
    "                    try:\n",
    "                        lyrics, len_lyrics = song_dict[artist][song_id]\n",
    "                    except:\n",
    "                        lyrics, len_lyrics = \"None\", 0\n",
    "                    track_number, track_name, duration_ms, danceability, energy, tempo, speechiness, valence = song_features\n",
    "                    cur.execute(sql, (track_name, track_number, artist, album_title,\n",
    "                                      duration_ms, valence, energy, tempo,\n",
    "                                      speechiness, danceability, lyrics, \n",
    "                                      len_lyrics,))  \n",
    "                print(\"{} album done for {}\".format(album_title, artist))\n",
    "                conn.commit()\n",
    "        return True\n",
    "\n",
    "    def __repr__(self):\n",
    "        return \"This class contains functionality to insert into the songs table\"\n",
    "\n",
    "    def __str__(self):\n",
    "        # Gets the number of rows in both tables\n",
    "        sql = \"\"\"SELECT COUNT(ID) \n",
    "                 FROM Songs\"\"\"\n",
    "        cur.execute(sql)\n",
    "        num_songs = cur.fetchone()\n",
    "        sql = \"\"\"SELECT COUNT(ID)\n",
    "                 FROM Artists\"\"\"\n",
    "        cur.execute(sql)\n",
    "        num_artists = cur.fetchone()\n",
    "        return \"There are {} songs and {} artists\".format(num_songs['count'],\n",
    "                                                        num_artists['count'])\n",
    "\n",
    "\n",
    "    def __contains__(self, artist_name):\n",
    "        sql = \"\"\"SELECT Name\n",
    "                 FROM Artists\n",
    "                 WHERE Name = '{}'\"\"\".format(artist_name)\n",
    "        cur.execute(sql)\n",
    "        rslt = cur.fetchone()\n",
    "        if rslt is None:\n",
    "            return False\n",
    "        return True\n",
    "\n",
    "    def get_artists_albums(self, artist_name):\n",
    "        \"\"\"\n",
    "        Queries the Songs table to get album names by that artist\n",
    "\n",
    "        Parameters\n",
    "        -------\n",
    "        artist_name : string\n",
    "            name of artist to search\n",
    "\n",
    "        Returns\n",
    "        -------\n",
    "        albums : tuple\n",
    "            Tuple of album names\n",
    "        \"\"\"\n",
    "\n",
    "        sql = \"\"\"SELECT DISTINCT(Album_Name)\n",
    "                 FROM Songs\n",
    "                 WHERE Artist_Name = '{}'\"\"\".format(artist_name)\n",
    "        cur.execute(sql)\n",
    "        album_list = cur.fetchall()\n",
    "        # If query returns empty, raise ValueError to trigger scraping of\n",
    "        # that artist instead\n",
    "        if album_list == []:\n",
    "            print(f\"Artist {artist_name} does not exist, will get their info.\")\n",
    "            raise ValueError\n",
    "        albums = [album['album_name'] for album in album_list]\n",
    "        # convert to tuple so that I can do the query in get_album_songs.\n",
    "        # It won't work if I keep it as a list\n",
    "        album_tuple = tuple(albums)\n",
    "        return album_tuple\n",
    "\n",
    "\n",
    "    def get_album_songs(self, album_tuple):\n",
    "        \"\"\"\n",
    "        Queries the Songs table to get all rows by each artist in artist_list\n",
    "\n",
    "        Parameters\n",
    "        -------\n",
    "        album_tuple : tuple\n",
    "            tuple of album names\n",
    "\n",
    "        Returns\n",
    "        -------\n",
    "        albums : tuple\n",
    "            Tuple of album names\n",
    "        \"\"\"\n",
    "        if len(album_tuple) > 1:\n",
    "            sql = \"\"\"SELECT Name, Track_Number, Album_Name,\n",
    "                     (Duration_MS / 1000 / 60) AS Duration, Valence, Energy,\n",
    "                     Tempo, Speechiness, Danceability, Length_Lyrics\n",
    "                     FROM Songs\n",
    "                     WHERE Album_Name IN {}\"\"\".format(album_tuple)\n",
    "        else:\n",
    "            sql = \"\"\"SELECT Name, Track_Number, Album_Name,\n",
    "                     (Duration_MS / 1000 / 60) AS Duration, Valence, Energy,\n",
    "                     Tempo, Speechiness, Danceability, Length_Lyrics\n",
    "                     FROM Songs\n",
    "                     WHERE Album_Name = '{}' \"\"\".format(album_tuple[0])\n",
    "        cur.execute(sql)\n",
    "        return cur.fetchall()\n"
   ]
  },
  {
   "cell_type": "code",
   "execution_count": 16,
   "metadata": {},
   "outputs": [],
   "source": [
    "table = Table()"
   ]
  },
  {
   "cell_type": "code",
   "execution_count": 17,
   "metadata": {},
   "outputs": [],
   "source": [
    "artist = 'SZA' # app will get this from user input\n",
    "table.insert_into_songs(song_dict=songs, artist_dict=artists)\n",
    "album_list = table.get_artists_albums(artist)"
   ]
  },
  {
   "cell_type": "code",
   "execution_count": 21,
   "metadata": {},
   "outputs": [
    {
     "name": "stdout",
     "output_type": "stream",
     "text": [
      "all tests pass\n"
     ]
    }
   ],
   "source": [
    "# check to see if contains works\n",
    "for artist_name in artists:\n",
    "    assert(artist_name in table)\n",
    "print('all tests pass')"
   ]
  },
  {
   "cell_type": "code",
   "execution_count": null,
   "metadata": {},
   "outputs": [],
   "source": []
  },
  {
   "cell_type": "code",
   "execution_count": null,
   "metadata": {},
   "outputs": [],
   "source": []
  }
 ],
 "metadata": {
  "kernelspec": {
   "display_name": "Python 3",
   "language": "python",
   "name": "python3"
  },
  "language_info": {
   "codemirror_mode": {
    "name": "ipython",
    "version": 3
   },
   "file_extension": ".py",
   "mimetype": "text/x-python",
   "name": "python",
   "nbconvert_exporter": "python",
   "pygments_lexer": "ipython3",
   "version": "3.6.1"
  }
 },
 "nbformat": 4,
 "nbformat_minor": 2
}
